{
 "cells": [
  {
   "cell_type": "markdown",
   "metadata": {},
   "source": [
    "# Intro to Python for Data Wonks\n",
    "\n",
    "## Objectives\n",
    "- Python **2** vs **3**\n",
    "- Review basic data structures\n",
    "- Upload data using Pandas\n",
    "- Produce simple stats\n",
    "\n",
    "\n",
    "<br><br>\n",
    "\n",
    "![flying python](http://xkcdsw.com/content/img/3424.png)\n",
    "<br><br>\n",
    "<center>**CAUTION:** Python programmers think they are hilarious... <u>They're not.<u> </center>\n",
    "\n",
    "<br><br>\n",
    "\n",
    "## Python Versions\n",
    "- 2 vs 3\n",
    "    + What I use...\n",
    "- Potential problems\n",
    "    + Older packages (see notes from 'Packages' section)\n",
    "    + Older databases / systems\n",
    "\n",
    "<br><br>\n",
    "\n",
    "## Basic Data Structures\n",
    "- What is a data structure?\n",
    "- What are the basic data structures in Python?\n"
   ]
  },
  {
   "cell_type": "markdown",
   "metadata": {},
   "source": [
    "<br><br>\n",
    "#### INTEGERS"
   ]
  },
  {
   "cell_type": "code",
   "execution_count": null,
   "metadata": {
    "collapsed": false
   },
   "outputs": [],
   "source": [
    "# Integers have no decimal\n",
    "print(3)\n",
    "\n",
    "# In Python 2, integer math always returns integers\n",
    "print( 3 + 10.5 )\n",
    "print( 3 - 10 )\n",
    "print( 3 * 10 )\n",
    "print( 3 / 10 )\n",
    "print( 3 ** 3 )\n",
    "print( 10 % 3 )\n",
    "print( 10 // 3 )\n",
    "print( 11 // 10 )"
   ]
  },
  {
   "cell_type": "markdown",
   "metadata": {},
   "source": [
    "<br><br>\n",
    "#### FLOATS"
   ]
  },
  {
   "cell_type": "code",
   "execution_count": null,
   "metadata": {
    "collapsed": false
   },
   "outputs": [],
   "source": [
    "# Floats have decimals\n",
    "print(3.0)\n",
    "\n",
    "# Float math might seem more accurate\n",
    "print( 3.0 + 10.0 )\n",
    "print( 3.0 - 10.0 )\n",
    "print( 3.0 * 10.0 )\n",
    "print( 3.0 / 10.0 )\n",
    "print( 3.0 ** 3.0 )\n",
    "print( 10.35 % 3.0 )\n",
    "print( 10.5 // 3.33 )\n",
    "print( 11.25 // 10.55 )"
   ]
  },
  {
   "cell_type": "markdown",
   "metadata": {},
   "source": [
    "<br><br>\n",
    "#### INTEGERS -> FLOATS"
   ]
  },
  {
   "cell_type": "code",
   "execution_count": null,
   "metadata": {
    "collapsed": false
   },
   "outputs": [],
   "source": [
    "# You could convert by hand\n",
    "print( int(3) + int(10) )\n",
    "\n",
    "\n",
    "# Or you could import a package\n",
    "# that does the work for you\n",
    "from __future__ import division\n",
    "\n",
    "# In Python 3, this is default\n",
    "# Importing 'division' not necessary\n",
    "\n",
    "print( 3 + 10 )\n",
    "print( 3 - 10 )\n",
    "print( 3 * 10 )\n",
    "print( 3 / 10 )\n",
    "print( 3 ** 3 )\n",
    "print( 10 % 3 )\n",
    "print( 10 // 3 )\n",
    "print( 11 // 10 )"
   ]
  },
  {
   "cell_type": "markdown",
   "metadata": {},
   "source": [
    "<br><br>\n",
    "#### LISTS"
   ]
  },
  {
   "cell_type": "code",
   "execution_count": null,
   "metadata": {
    "collapsed": false
   },
   "outputs": [],
   "source": [
    "examples = [\n",
    "    [2, 4, 6, 93, 0],\n",
    "    [30.0, 4/2, \"Hello\", [0,1,0,True]],\n",
    "    [i for i in range(2,20,4)],\n",
    "]\n",
    "\n",
    "for i in examples:\n",
    "    print(i)"
   ]
  },
  {
   "cell_type": "markdown",
   "metadata": {},
   "source": [
    "<br><br>\n",
    "#### LIST INDEXING"
   ]
  },
  {
   "cell_type": "code",
   "execution_count": null,
   "metadata": {
    "collapsed": false
   },
   "outputs": [],
   "source": [
    "print(examples[0])"
   ]
  },
  {
   "cell_type": "code",
   "execution_count": null,
   "metadata": {
    "collapsed": false
   },
   "outputs": [],
   "source": [
    "print(examples[0][2])"
   ]
  },
  {
   "cell_type": "code",
   "execution_count": null,
   "metadata": {
    "collapsed": false
   },
   "outputs": [],
   "source": [
    "print(examples[1][3][3])"
   ]
  },
  {
   "cell_type": "markdown",
   "metadata": {},
   "source": [
    "<br><br>\n",
    "#### LIST APPENDING"
   ]
  },
  {
   "cell_type": "code",
   "execution_count": null,
   "metadata": {
    "collapsed": false
   },
   "outputs": [],
   "source": [
    "a = []\n",
    "\n",
    "for i in range(50):\n",
    "    # if divisible by 2\n",
    "    if i % 3 == 0:\n",
    "        a.append(i)\n",
    "\n",
    "print(a)"
   ]
  },
  {
   "cell_type": "code",
   "execution_count": null,
   "metadata": {
    "collapsed": false
   },
   "outputs": [],
   "source": [
    "\n",
    "\n",
    "[ i for i in range(50) if i % 3 == 0 ]\n",
    "\n"
   ]
  },
  {
   "cell_type": "markdown",
   "metadata": {},
   "source": [
    "<br><br>\n",
    "#### DICTIONARIES (aka \"Dicts\")"
   ]
  },
  {
   "cell_type": "code",
   "execution_count": null,
   "metadata": {
    "collapsed": false
   },
   "outputs": [],
   "source": [
    "person = {\n",
    "    \"name\": \"Bryan\",\n",
    "    \"age\" : 33,\n",
    "    \"city\": \"Seattle\",\n",
    "}\n",
    "\n",
    "for k in person:\n",
    "    print(k, person[k])"
   ]
  },
  {
   "cell_type": "code",
   "execution_count": null,
   "metadata": {
    "collapsed": false
   },
   "outputs": [],
   "source": [
    "person = {}\n",
    "\n",
    "person[\"name\"] = \"Bryan\"\n",
    "person[\"age\"]  = 33\n",
    "person[\"city\"] = \"Seattle\"\n",
    "\n",
    "for k in person:\n",
    "    print(k, person[k])"
   ]
  },
  {
   "cell_type": "code",
   "execution_count": null,
   "metadata": {
    "collapsed": false
   },
   "outputs": [],
   "source": [
    "print(list(person.keys()))\n",
    "print(person.values())\n",
    "\n",
    "\n",
    "[k for k in person.keys()]"
   ]
  },
  {
   "cell_type": "code",
   "execution_count": null,
   "metadata": {
    "collapsed": false
   },
   "outputs": [],
   "source": [
    "people = [\n",
    "    {\n",
    "        \"name\": \"Bryan\",\n",
    "        \"age\" : 33,\n",
    "        \"city\": \"Seattle\",\n",
    "    },\n",
    "    {\n",
    "        \"name\": \"Ruby\",\n",
    "        \"age\" : 6,\n",
    "        \"city\": \"Shoreline\",\n",
    "    },\n",
    "    {\n",
    "        \"name\": \"Lula\",\n",
    "        \"age\" : 3.5,\n",
    "        \"city\": \"Shoreline\",\n",
    "    },\n",
    "]\n",
    "\n",
    "for person in people:\n",
    "    for k in person:\n",
    "        print(k, person[k])\n",
    "    print(\"---------------\")"
   ]
  },
  {
   "cell_type": "code",
   "execution_count": null,
   "metadata": {
    "collapsed": false
   },
   "outputs": [],
   "source": [
    "x = [ 10, 8, 3, 11, 17, 10 ]\n",
    "x = set(x)\n",
    "x"
   ]
  },
  {
   "cell_type": "markdown",
   "metadata": {},
   "source": [
    "<br><br>\n",
    "#### STRINGS"
   ]
  },
  {
   "cell_type": "code",
   "execution_count": null,
   "metadata": {
    "collapsed": false
   },
   "outputs": [],
   "source": [
    "# A simple string\n",
    "print(\"Hello\")\n",
    "\n",
    "# Strings concatenated\n",
    "print(\"Hello \" + \"world!\")\n",
    "print(\"Hello \" \"world!\") # However, I prefer to be explicity and use an operator\n",
    "\n",
    "# Multiplying strings\n",
    "print(\"Hello\" * 3)\n",
    "print( [\"Hello\" * 3] ) # Just be mindful...\n",
    "print( [\"Hello\"] * 3 ) # of your syntax\n",
    "\n",
    "\n",
    "# A string is really a list of characters\n",
    "print(\"This is a string\"[0:3])\n",
    "print(\"This is a string\"[0:10:2])\n",
    "print(\"This is a string\"[::-1])\n",
    "\n",
    "# As a list, you can find the length\n",
    "print( len(\"This is a string\") )"
   ]
  },
  {
   "cell_type": "markdown",
   "metadata": {},
   "source": [
    "<br><br>\n",
    "#### FUNCTIONS"
   ]
  },
  {
   "cell_type": "code",
   "execution_count": null,
   "metadata": {
    "collapsed": false
   },
   "outputs": [],
   "source": [
    "# Very simple examples\n",
    "\n",
    "def hello(name=\"Jane\"):\n",
    "    print(\"hello, %s!\" % name)\n",
    "    \n",
    "def double(n):\n",
    "    return n*2\n",
    "\n",
    "print(hello(\"Marla\"))\n",
    "print( double(55) )"
   ]
  },
  {
   "cell_type": "markdown",
   "metadata": {},
   "source": [
    "Quick example of an anonymous function (rarely used in general, but important for working with Pandas).\n",
    "\n",
    "Anonymous functions are great for when you're not really going to use function anywhere else; often involved in loops"
   ]
  },
  {
   "cell_type": "code",
   "execution_count": null,
   "metadata": {
    "collapsed": false
   },
   "outputs": [],
   "source": [
    "foo = [2, 18, 9, 22, 17, 24, 8, 12, 27]\n",
    "\n",
    "# is 'x' divisible by 3\n",
    "def divisible_by_three(x):\n",
    "    return x % 3 == 0 # True or False\n",
    "\n",
    "# for each number in list\n",
    "# only keep those where \n",
    "# 'divisible_by_three' returns True\n",
    "print([f for f in filter(divisible_by_three, foo)])\n",
    "\n",
    "# for each number in list\n",
    "# multiply number by 2 then add 10\n",
    "def times_two_plus_ten(x):\n",
    "    return x * 2 + 10\n",
    "\n",
    "print([m for m in map(times_two_plus_ten, foo)])\n",
    "\n",
    "# add two numbers together\n",
    "def add(x, y):\n",
    "    return x + y\n",
    "\n",
    "# for each number in list\n",
    "# add number with the next number in list\n",
    "# print(reduce(add, foo))"
   ]
  },
  {
   "cell_type": "code",
   "execution_count": null,
   "metadata": {
    "collapsed": false
   },
   "outputs": [],
   "source": [
    "foo = [2, 18, 9, 22, 17, 24, 8, 12, 27]\n",
    "\n",
    "print([f for f in filter(lambda x: x % 3 == 0, foo)])\n",
    "\n",
    "print([m for m in map(lambda x: x * 2 + 10, foo)])\n",
    "\n",
    "# print(reduce(lambda x, y: x + y, foo))"
   ]
  },
  {
   "cell_type": "markdown",
   "metadata": {},
   "source": [
    "<br><br>\n",
    "\n",
    "\n",
    "## Working with Data\n",
    "- How to import packages\n",
    "- How to load / export data\n",
    "- How to generate quick basic stats\n",
    "\n",
    "\n",
    "#### Importing Packages\n",
    "- What are packages?\n",
    "- Standard library vs. third-party?\n",
    "- How to import packages?"
   ]
  },
  {
   "cell_type": "code",
   "execution_count": null,
   "metadata": {
    "collapsed": true
   },
   "outputs": [],
   "source": [
    "import pandas as pd\n",
    "import sqlite3\n",
    "from random import randint\n",
    "from dateutil import relativedelta"
   ]
  },
  {
   "cell_type": "markdown",
   "metadata": {},
   "source": [
    "<br><br>\n",
    "\n",
    "#### Reading Data\n",
    "- Pandas (provides data structures that behave like R's data frames)\n",
    "- Although Pandas is widely used there are other ways"
   ]
  },
  {
   "cell_type": "code",
   "execution_count": null,
   "metadata": {
    "collapsed": false
   },
   "outputs": [],
   "source": [
    "# Note, Python works with many formats (e.g. CSV, XLSX, JSON, SAS)\n",
    "# and delivery methods (e.g. local file, SQL database, HTTP request to a website)\n",
    "\n",
    "clients = pd.read_excel(\"U:/intro_python_demo_data.xlsx\")\n",
    "\n",
    "clients.head(20)\n",
    "\n",
    "# kcid = clients[\"kcid\"].drop_duplicates().tolist()"
   ]
  },
  {
   "cell_type": "code",
   "execution_count": null,
   "metadata": {
    "collapsed": false
   },
   "outputs": [],
   "source": [
    "for k in kcid:\n",
    "    if k % 5 == 0:\n",
    "        print(k)"
   ]
  },
  {
   "cell_type": "markdown",
   "metadata": {},
   "source": [
    "<br><br>\n",
    "\n",
    "#### 'Apply' Using Pandas\n",
    "- Similar to R's family of 'apply' functions"
   ]
  },
  {
   "cell_type": "code",
   "execution_count": null,
   "metadata": {
    "collapsed": false
   },
   "outputs": [],
   "source": [
    "clients[\"start_date\"] =  clients[\"start_date\"].apply(lambda d: d - pd.offsets.Day(365) if randint(1,10) in (2,3,7) else d)\n",
    "\n",
    "def start_year(d):\n",
    "    return d.year\n",
    "\n",
    "clients[\"start_year\"] =  clients[\"start_date\"].apply(start_year)\n",
    "\n",
    "clients.head()"
   ]
  },
  {
   "cell_type": "markdown",
   "metadata": {},
   "source": [
    "<br><br>\n",
    "\n",
    "#### Using SQLite\n",
    "- [SQLite](http://sqlite.org) is a portable SQL database used in embedded devices like smart phones (<u>think MS Access but better</u>)\n",
    "- This provides some advantages for using SQL to wrangle and manipulate data\n",
    "- One may connect to other, server-based SQL databases in Python including SQL Server, MySQL...\n",
    "- NOTE: SQLite databases are like MS Access databases in that they store data locally and you must therefore be careful about where / how you store them and who has access to them"
   ]
  },
  {
   "cell_type": "code",
   "execution_count": null,
   "metadata": {
    "collapsed": false
   },
   "outputs": [],
   "source": [
    "with sqlite3.connect(\"demo.db\") as conn:\n",
    "    clients.to_sql(\"clients\", conn, if_exists=\"replace\")\n",
    "    \n",
    "    only_2016_starts = pd.read_sql(\"\"\"\n",
    "        select * -- distinct kcid\n",
    "        from clients\n",
    "        where start_date between '2016-01-01' and '2016-12-31'\n",
    "    \"\"\", conn)\n",
    "\n",
    "only_2016_starts.head()"
   ]
  },
  {
   "cell_type": "markdown",
   "metadata": {},
   "source": [
    "<br><br>\n",
    "\n",
    "#### Simple Statistics"
   ]
  },
  {
   "cell_type": "code",
   "execution_count": null,
   "metadata": {
    "collapsed": false
   },
   "outputs": [],
   "source": [
    "# Simple stats\n",
    "people_by_agency_and_program = clients.groupby([\"program\",\"agency_id\"])[\"kcid\"].count()\n",
    "people_by_year_and_program = clients.groupby([\"program\",\"start_year\"])[\"kcid\"].count()"
   ]
  },
  {
   "cell_type": "code",
   "execution_count": null,
   "metadata": {
    "collapsed": false
   },
   "outputs": [],
   "source": [
    "people_by_agency_and_program"
   ]
  },
  {
   "cell_type": "code",
   "execution_count": null,
   "metadata": {
    "collapsed": false
   },
   "outputs": [],
   "source": [
    "people_by_year_and_program"
   ]
  },
  {
   "cell_type": "markdown",
   "metadata": {},
   "source": [
    "<br><br>\n",
    "\n",
    "#### Exporting Data"
   ]
  },
  {
   "cell_type": "code",
   "execution_count": null,
   "metadata": {
    "collapsed": true
   },
   "outputs": [],
   "source": [
    "# Exporting 'raw' data quickly (only one worksheet)\n",
    "clients.to_excel(\"U:/clients.xlsx\")\n",
    "\n",
    "# Exporting 'stat' data quickly (only one worksheet)\n",
    "people_by_agency_and_program.to_frame().to_excel(\"people_by_agency_and_program.xlsx\")"
   ]
  },
  {
   "cell_type": "code",
   "execution_count": null,
   "metadata": {
    "collapsed": false
   },
   "outputs": [],
   "source": [
    "# Multple worksheets\n",
    "writer = pd.ExcelWriter(\"client_report.xlsx\")\n",
    "\n",
    "clients.to_excel(writer, sheet_name=\"client details\", index=False)\n",
    "people_by_agency_and_program.to_frame().to_excel(writer, sheet_name=\"agency and program\") # keep the index\n",
    "people_by_year_and_program.to_frame().to_excel(writer, sheet_name=\"year and program\") # keep the index\n",
    "\n",
    "writer.save()"
   ]
  },
  {
   "cell_type": "code",
   "execution_count": null,
   "metadata": {
    "collapsed": false
   },
   "outputs": [],
   "source": [
    "import os\n",
    "\n",
    "os.getcwd()"
   ]
  },
  {
   "cell_type": "code",
   "execution_count": null,
   "metadata": {
    "collapsed": true
   },
   "outputs": [],
   "source": []
  }
 ],
 "metadata": {
  "anaconda-cloud": {},
  "kernelspec": {
   "display_name": "Python [default]",
   "language": "python",
   "name": "python3"
  },
  "language_info": {
   "codemirror_mode": {
    "name": "ipython",
    "version": 3
   },
   "file_extension": ".py",
   "mimetype": "text/x-python",
   "name": "python",
   "nbconvert_exporter": "python",
   "pygments_lexer": "ipython3",
   "version": "3.5.2"
  }
 },
 "nbformat": 4,
 "nbformat_minor": 0
}
